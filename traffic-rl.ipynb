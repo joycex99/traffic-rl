{
 "cells": [
  {
   "cell_type": "code",
   "execution_count": 8,
   "metadata": {},
   "outputs": [],
   "source": [
    "from flow.core.params import NetParams\n",
    "from flow.networks import TrafficLightGridNetwork\n",
    "from flow.core.params import TrafficLightParams\n",
    "from flow.core.params import SumoParams, EnvParams, InitialConfig, NetParams, \\\n",
    "    InFlows, SumoCarFollowingParams\n",
    "from flow.core.params import VehicleParams\n",
    "import numpy as np"
   ]
  },
  {
   "cell_type": "code",
   "execution_count": 31,
   "metadata": {},
   "outputs": [],
   "source": [
    "from flow.envs.traffic_light_grid import TrafficLightGridEnv, ADDITIONAL_ENV_PARAMS\n",
    "from flow.core.experiment import Experiment"
   ]
  },
  {
   "cell_type": "code",
   "execution_count": 22,
   "metadata": {},
   "outputs": [],
   "source": [
    "# SumoParams, EnvParams\n",
    "HORIZON=50\n",
    "sim_params = SumoParams(sim_step=0.2, render=False)\n",
    "env_params = EnvParams(horizon=HORIZON,\n",
    "                       additional_params=ADDITIONAL_ENV_PARAMS)"
   ]
  },
  {
   "cell_type": "code",
   "execution_count": 39,
   "metadata": {},
   "outputs": [],
   "source": [
    "inner_length = 300\n",
    "long_length = 500\n",
    "short_length = 300\n",
    "n = 2 # rows\n",
    "m = 3 # columns\n",
    "num_cars_left = 20\n",
    "num_cars_right = 20\n",
    "num_cars_top = 20\n",
    "num_cars_bot = 20\n",
    "tot_cars = (num_cars_left + num_cars_right) * m \\\n",
    "    + (num_cars_top + num_cars_bot) * n\n",
    "\n",
    "grid_array = {\"short_length\": short_length, \"inner_length\": inner_length,\n",
    "              \"long_length\": long_length, \"row_num\": n, \"col_num\": m,\n",
    "              \"cars_left\": num_cars_left, \"cars_right\": num_cars_right,\n",
    "              \"cars_top\": num_cars_top, \"cars_bot\": num_cars_bot}"
   ]
  },
  {
   "cell_type": "code",
   "execution_count": 40,
   "metadata": {},
   "outputs": [],
   "source": [
    "additional_net_params = {\"speed_limit\": 35, \"grid_array\": grid_array,\n",
    "                         \"horizontal_lanes\": 1, \"vertical_lanes\": 1,\n",
    "                         \"traffic_lights\": True}\n",
    "network = TrafficLightGridNetwork(name='grid',\n",
    "                                  vehicles=VehicleParams(),\n",
    "                                  net_params=NetParams(\n",
    "                                      additional_params=additional_net_params)\n",
    "                                 )"
   ]
  },
  {
   "cell_type": "code",
   "execution_count": 41,
   "metadata": {},
   "outputs": [],
   "source": [
    "env = TrafficLightGridEnv(env_params, sim_params, network)"
   ]
  },
  {
   "cell_type": "code",
   "execution_count": 43,
   "metadata": {},
   "outputs": [],
   "source": [
    "# exp = Experiment(env)\n",
    "# _ = exp.run(1, 10000)"
   ]
  },
  {
   "cell_type": "code",
   "execution_count": 44,
   "metadata": {},
   "outputs": [],
   "source": [
    "net_params = NetParams(additional_params=additional_net_params)\n",
    "vehicles = VehicleParams()\n",
    "\n",
    "# Creating flow_params. Make sure the dictionary keys are as specified. \n",
    "flow_params = dict(\n",
    "    # name of the experiment\n",
    "    exp_tag='traffic-rl',\n",
    "    # name of the flow environment the experiment is running on\n",
    "    env_name=TrafficLightGridEnv,\n",
    "    # name of the network class the experiment uses\n",
    "    network=TrafficLightGridNetwork,\n",
    "    # simulator that is used by the experiment\n",
    "    simulator='traci',\n",
    "    # sumo-related parameters (see flow.core.params.SumoParams)\n",
    "    sim=sim_params,\n",
    "    # environment related parameters (see flow.core.params.EnvParams)\n",
    "    env=env_params,\n",
    "    # network-related parameters (see flow.core.params.NetParams and\n",
    "    # the network's documentation or ADDITIONAL_NET_PARAMS component)\n",
    "    net=net_params,\n",
    "    # vehicles to be placed in the network at the start of a rollout \n",
    "    # (see flow.core.vehicles.Vehicles)\n",
    "    veh=vehicles,\n",
    ")"
   ]
  },
  {
   "cell_type": "code",
   "execution_count": 36,
   "metadata": {},
   "outputs": [],
   "source": [
    "import json\n",
    "\n",
    "import ray\n",
    "try:\n",
    "    from ray.rllib.agents.agent import get_agent_class\n",
    "except ImportError:\n",
    "    from ray.rllib.agents.registry import get_agent_class\n",
    "from ray.tune import run_experiments\n",
    "from ray.tune.registry import register_env\n",
    "\n",
    "from flow.utils.registry import make_create_env\n",
    "from flow.utils.rllib import FlowParamsEncoder"
   ]
  },
  {
   "cell_type": "code",
   "execution_count": 38,
   "metadata": {},
   "outputs": [
    {
     "name": "stderr",
     "output_type": "stream",
     "text": [
      "2019-11-30 22:18:41,405\tINFO node.py:498 -- Process STDOUT and STDERR is being redirected to /tmp/ray/session_2019-11-30_22-18-41_405270_28103/logs.\n",
      "2019-11-30 22:18:41,522\tINFO services.py:409 -- Waiting for redis server at 127.0.0.1:22558 to respond...\n",
      "2019-11-30 22:18:41,644\tINFO services.py:409 -- Waiting for redis server at 127.0.0.1:52100 to respond...\n",
      "2019-11-30 22:18:41,648\tINFO services.py:809 -- Starting Redis shard with 3.44 GB max memory.\n",
      "2019-11-30 22:18:41,680\tINFO node.py:512 -- Process STDOUT and STDERR is being redirected to /tmp/ray/session_2019-11-30_22-18-41_405270_28103/logs.\n"
     ]
    },
    {
     "ename": "ValueError",
     "evalue": "The default object store size of 5.15 GB will use more than 90% of the available memory on this node (5.43 GB). Please reduce the object store memory size to avoid memory contention with other applications, or shut down the applications using this memory.",
     "output_type": "error",
     "traceback": [
      "\u001b[0;31m---------------------------------------------------------------------------\u001b[0m",
      "\u001b[0;31mValueError\u001b[0m                                Traceback (most recent call last)",
      "\u001b[0;32m<ipython-input-38-cce1fd3af462>\u001b[0m in \u001b[0;36m<module>\u001b[0;34m\u001b[0m\n\u001b[1;32m      4\u001b[0m \u001b[0mN_ROLLOUTS\u001b[0m \u001b[0;34m=\u001b[0m \u001b[0;36m1\u001b[0m\u001b[0;34m\u001b[0m\u001b[0;34m\u001b[0m\u001b[0m\n\u001b[1;32m      5\u001b[0m \u001b[0;34m\u001b[0m\u001b[0m\n\u001b[0;32m----> 6\u001b[0;31m \u001b[0mray\u001b[0m\u001b[0;34m.\u001b[0m\u001b[0minit\u001b[0m\u001b[0;34m(\u001b[0m\u001b[0mnum_cpus\u001b[0m\u001b[0;34m=\u001b[0m\u001b[0mN_CPUS\u001b[0m\u001b[0;34m)\u001b[0m\u001b[0;34m\u001b[0m\u001b[0;34m\u001b[0m\u001b[0m\n\u001b[0m",
      "\u001b[0;32m/anaconda3/envs/flow/lib/python3.6/site-packages/ray/worker.py\u001b[0m in \u001b[0;36minit\u001b[0;34m(redis_address, num_cpus, num_gpus, resources, object_store_memory, redis_max_memory, log_to_driver, node_ip_address, object_id_seed, local_mode, redirect_worker_output, redirect_output, ignore_reinit_error, num_redis_shards, redis_max_clients, redis_password, plasma_directory, huge_pages, include_webui, job_id, configure_logging, logging_level, logging_format, plasma_store_socket_name, raylet_socket_name, temp_dir, load_code_from_local, _internal_config)\u001b[0m\n\u001b[1;32m   1427\u001b[0m         \u001b[0;31m# handler.\u001b[0m\u001b[0;34m\u001b[0m\u001b[0;34m\u001b[0m\u001b[0;34m\u001b[0m\u001b[0m\n\u001b[1;32m   1428\u001b[0m         _global_node = ray.node.Node(\n\u001b[0;32m-> 1429\u001b[0;31m             head=True, shutdown_at_exit=False, ray_params=ray_params)\n\u001b[0m\u001b[1;32m   1430\u001b[0m     \u001b[0;32melse\u001b[0m\u001b[0;34m:\u001b[0m\u001b[0;34m\u001b[0m\u001b[0;34m\u001b[0m\u001b[0m\n\u001b[1;32m   1431\u001b[0m         \u001b[0;31m# In this case, we are connecting to an existing cluster.\u001b[0m\u001b[0;34m\u001b[0m\u001b[0;34m\u001b[0m\u001b[0;34m\u001b[0m\u001b[0m\n",
      "\u001b[0;32m/anaconda3/envs/flow/lib/python3.6/site-packages/ray/node.py\u001b[0m in \u001b[0;36m__init__\u001b[0;34m(self, ray_params, head, shutdown_at_exit, connect_only)\u001b[0m\n\u001b[1;32m    148\u001b[0m \u001b[0;34m\u001b[0m\u001b[0m\n\u001b[1;32m    149\u001b[0m         \u001b[0;32mif\u001b[0m \u001b[0;32mnot\u001b[0m \u001b[0mconnect_only\u001b[0m\u001b[0;34m:\u001b[0m\u001b[0;34m\u001b[0m\u001b[0;34m\u001b[0m\u001b[0m\n\u001b[0;32m--> 150\u001b[0;31m             \u001b[0mself\u001b[0m\u001b[0;34m.\u001b[0m\u001b[0mstart_ray_processes\u001b[0m\u001b[0;34m(\u001b[0m\u001b[0;34m)\u001b[0m\u001b[0;34m\u001b[0m\u001b[0;34m\u001b[0m\u001b[0m\n\u001b[0m\u001b[1;32m    151\u001b[0m \u001b[0;34m\u001b[0m\u001b[0m\n\u001b[1;32m    152\u001b[0m         \u001b[0;32mif\u001b[0m \u001b[0mshutdown_at_exit\u001b[0m\u001b[0;34m:\u001b[0m\u001b[0;34m\u001b[0m\u001b[0;34m\u001b[0m\u001b[0m\n",
      "\u001b[0;32m/anaconda3/envs/flow/lib/python3.6/site-packages/ray/node.py\u001b[0m in \u001b[0;36mstart_ray_processes\u001b[0;34m(self)\u001b[0m\n\u001b[1;32m    512\u001b[0m                 self._logs_dir))\n\u001b[1;32m    513\u001b[0m \u001b[0;34m\u001b[0m\u001b[0m\n\u001b[0;32m--> 514\u001b[0;31m         \u001b[0mself\u001b[0m\u001b[0;34m.\u001b[0m\u001b[0mstart_plasma_store\u001b[0m\u001b[0;34m(\u001b[0m\u001b[0;34m)\u001b[0m\u001b[0;34m\u001b[0m\u001b[0;34m\u001b[0m\u001b[0m\n\u001b[0m\u001b[1;32m    515\u001b[0m         \u001b[0mself\u001b[0m\u001b[0;34m.\u001b[0m\u001b[0mstart_raylet\u001b[0m\u001b[0;34m(\u001b[0m\u001b[0;34m)\u001b[0m\u001b[0;34m\u001b[0m\u001b[0;34m\u001b[0m\u001b[0m\n\u001b[1;32m    516\u001b[0m         \u001b[0;32mif\u001b[0m \u001b[0mPY3\u001b[0m\u001b[0;34m:\u001b[0m\u001b[0;34m\u001b[0m\u001b[0;34m\u001b[0m\u001b[0m\n",
      "\u001b[0;32m/anaconda3/envs/flow/lib/python3.6/site-packages/ray/node.py\u001b[0m in \u001b[0;36mstart_plasma_store\u001b[0;34m(self)\u001b[0m\n\u001b[1;32m    412\u001b[0m             \u001b[0mplasma_directory\u001b[0m\u001b[0;34m=\u001b[0m\u001b[0mself\u001b[0m\u001b[0;34m.\u001b[0m\u001b[0m_ray_params\u001b[0m\u001b[0;34m.\u001b[0m\u001b[0mplasma_directory\u001b[0m\u001b[0;34m,\u001b[0m\u001b[0;34m\u001b[0m\u001b[0;34m\u001b[0m\u001b[0m\n\u001b[1;32m    413\u001b[0m             \u001b[0mhuge_pages\u001b[0m\u001b[0;34m=\u001b[0m\u001b[0mself\u001b[0m\u001b[0;34m.\u001b[0m\u001b[0m_ray_params\u001b[0m\u001b[0;34m.\u001b[0m\u001b[0mhuge_pages\u001b[0m\u001b[0;34m,\u001b[0m\u001b[0;34m\u001b[0m\u001b[0;34m\u001b[0m\u001b[0m\n\u001b[0;32m--> 414\u001b[0;31m             plasma_store_socket_name=self._plasma_store_socket_name)\n\u001b[0m\u001b[1;32m    415\u001b[0m         assert (\n\u001b[1;32m    416\u001b[0m             ray_constants.PROCESS_TYPE_PLASMA_STORE not in self.all_processes)\n",
      "\u001b[0;32m/anaconda3/envs/flow/lib/python3.6/site-packages/ray/services.py\u001b[0m in \u001b[0;36mstart_plasma_store\u001b[0;34m(stdout_file, stderr_file, object_store_memory, plasma_directory, huge_pages, plasma_store_socket_name)\u001b[0m\n\u001b[1;32m   1461\u001b[0m     \"\"\"\n\u001b[1;32m   1462\u001b[0m     object_store_memory, plasma_directory = determine_plasma_store_config(\n\u001b[0;32m-> 1463\u001b[0;31m         object_store_memory, plasma_directory, huge_pages)\n\u001b[0m\u001b[1;32m   1464\u001b[0m \u001b[0;34m\u001b[0m\u001b[0m\n\u001b[1;32m   1465\u001b[0m     \u001b[0;32mif\u001b[0m \u001b[0mobject_store_memory\u001b[0m \u001b[0;34m<\u001b[0m \u001b[0mray_constants\u001b[0m\u001b[0;34m.\u001b[0m\u001b[0mOBJECT_STORE_MINIMUM_MEMORY_BYTES\u001b[0m\u001b[0;34m:\u001b[0m\u001b[0;34m\u001b[0m\u001b[0;34m\u001b[0m\u001b[0m\n",
      "\u001b[0;32m/anaconda3/envs/flow/lib/python3.6/site-packages/ray/services.py\u001b[0m in \u001b[0;36mdetermine_plasma_store_config\u001b[0;34m(object_store_memory, plasma_directory, huge_pages)\u001b[0m\n\u001b[1;32m   1319\u001b[0m                 \"shut down the applications using this memory.\".format(\n\u001b[1;32m   1320\u001b[0m                     \u001b[0mround\u001b[0m\u001b[0;34m(\u001b[0m\u001b[0mobject_store_memory\u001b[0m \u001b[0;34m/\u001b[0m \u001b[0;36m1e9\u001b[0m\u001b[0;34m,\u001b[0m \u001b[0;36m2\u001b[0m\u001b[0;34m)\u001b[0m\u001b[0;34m,\u001b[0m\u001b[0;34m\u001b[0m\u001b[0;34m\u001b[0m\u001b[0m\n\u001b[0;32m-> 1321\u001b[0;31m                     round(avail_memory / 1e9, 2)))\n\u001b[0m\u001b[1;32m   1322\u001b[0m         \u001b[0;32melif\u001b[0m \u001b[0mobject_store_fraction\u001b[0m \u001b[0;34m>\u001b[0m \u001b[0;36m0.5\u001b[0m\u001b[0;34m:\u001b[0m\u001b[0;34m\u001b[0m\u001b[0;34m\u001b[0m\u001b[0m\n\u001b[1;32m   1323\u001b[0m             logger.warning(\n",
      "\u001b[0;31mValueError\u001b[0m: The default object store size of 5.15 GB will use more than 90% of the available memory on this node (5.43 GB). Please reduce the object store memory size to avoid memory contention with other applications, or shut down the applications using this memory."
     ]
    }
   ],
   "source": [
    "# number of parallel workers\n",
    "N_CPUS = 1\n",
    "# number of rollouts per training iteration\n",
    "N_ROLLOUTS = 1\n",
    "\n",
    "ray.init(num_cpus=N_CPUS)"
   ]
  },
  {
   "cell_type": "code",
   "execution_count": null,
   "metadata": {},
   "outputs": [],
   "source": []
  }
 ],
 "metadata": {
  "kernelspec": {
   "display_name": "Python 3",
   "language": "python",
   "name": "python3"
  },
  "language_info": {
   "codemirror_mode": {
    "name": "ipython",
    "version": 3
   },
   "file_extension": ".py",
   "mimetype": "text/x-python",
   "name": "python",
   "nbconvert_exporter": "python",
   "pygments_lexer": "ipython3",
   "version": "3.6.8"
  }
 },
 "nbformat": 4,
 "nbformat_minor": 2
}
